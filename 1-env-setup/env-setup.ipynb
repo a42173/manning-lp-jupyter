{
 "cells": [
  {
   "cell_type": "code",
   "execution_count": 4,
   "id": "b89ac0be-bf0e-42c2-ae1d-29f354c73b03",
   "metadata": {},
   "outputs": [
    {
     "name": "stdout",
     "output_type": "stream",
     "text": [
      "Hello World!\n"
     ]
    }
   ],
   "source": [
    "def hello():\n",
    "    print(\"Hello World!\")\n",
    "    \n",
    "hello()"
   ]
  },
  {
   "cell_type": "markdown",
   "id": "5983bd63-3025-4750-9a18-8435464e42f0",
   "metadata": {},
   "source": [
    "<b>Hello World</b>\n",
    "\n",
    "Simple hello world function. Getting our feet wet."
   ]
  }
 ],
 "metadata": {
  "kernelspec": {
   "display_name": "Python 3",
   "language": "python",
   "name": "python3"
  },
  "language_info": {
   "codemirror_mode": {
    "name": "ipython",
    "version": 3
   },
   "file_extension": ".py",
   "mimetype": "text/x-python",
   "name": "python",
   "nbconvert_exporter": "python",
   "pygments_lexer": "ipython3",
   "version": "3.9.5"
  }
 },
 "nbformat": 4,
 "nbformat_minor": 5
}
